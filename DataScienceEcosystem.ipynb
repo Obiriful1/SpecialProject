{
 "cells": [
  {
   "cell_type": "markdown",
   "id": "5ee71da1",
   "metadata": {},
   "source": [
    "# Data Science Tools and Ecosystem"
   ]
  },
  {
   "cell_type": "markdown",
   "id": "40cc7c41",
   "metadata": {},
   "source": [
    "  ## Introduction\n",
    "  >In this notebook, Data Science Tools and Ecosystem are summarized."
   ]
  },
  {
   "cell_type": "markdown",
   "id": "3b5e1602",
   "metadata": {},
   "source": [
    "### __Objectives__\n",
    "* List popular language for Data Science\n",
    "* List some commonly used libraries for Data Science\n",
    "* Perform some arithmetic calculations\n",
    "* Create a code to convert minutes to hours"
   ]
  },
  {
   "cell_type": "markdown",
   "id": "1c74dc8e",
   "metadata": {},
   "source": [
    "### Some of the popular languages that Data Scientists use are:\n",
    "1. python\n",
    "2. R\n",
    "3. Scala\n",
    "4. Julia\n",
    "5. C++"
   ]
  },
  {
   "cell_type": "markdown",
   "id": "872c0221",
   "metadata": {},
   "source": [
    "### Some of the commonly used libraries used by Data Scientists include:\n",
    "1. Python libraries\n",
    "2. R libraries\n",
    "3. Scala libraries"
   ]
  },
  {
   "cell_type": "markdown",
   "id": "09c7181a",
   "metadata": {},
   "source": [
    "### Table of Data Scince Tools\n",
    "\n",
    "| Data Science Tools |\n",
    "| ------------------ |\n",
    "| R Studio |\n",
    "| Apache Spark |\n",
    "| TensorFlow |"
   ]
  },
  {
   "cell_type": "markdown",
   "id": "fb1ee6f2",
   "metadata": {},
   "source": [
    "## Arithmetic Expression\n",
    "### Below are a few examples of evaluating arithmetic expression in Python."
   ]
  },
  {
   "cell_type": "code",
   "execution_count": 4,
   "id": "36aa866c",
   "metadata": {},
   "outputs": [
    {
     "name": "stdout",
     "output_type": "stream",
     "text": [
      "This is a simple arithmetic expression to multiply then add integers\n"
     ]
    },
    {
     "data": {
      "text/plain": [
       "17"
      ]
     },
     "execution_count": 4,
     "metadata": {},
     "output_type": "execute_result"
    }
   ],
   "source": [
    "print(\"This is a simple arithmetic expression to multiply then add integers\")\n",
    "(3*4)+5"
   ]
  },
  {
   "cell_type": "code",
   "execution_count": 6,
   "id": "939057f1",
   "metadata": {},
   "outputs": [
    {
     "name": "stdout",
     "output_type": "stream",
     "text": [
      "This will convert 200 minutes to hours to hours by dividing by 60\n",
      "3 hours and 20 minutes\n"
     ]
    }
   ],
   "source": [
    "print(\"This will convert 200 minutes to hours to hours by dividing by 60\")\n",
    "\n",
    "minutes = 200\n",
    "hours = minutes // 60\n",
    "remaining_minutes = minutes % 60\n",
    "print(f\"{hours} hours and {remaining_minutes} minutes\")"
   ]
  },
  {
   "cell_type": "markdown",
   "id": "a70e8c2e",
   "metadata": {},
   "source": [
    "## Author\n",
    "Ajoku Obinna Sunday"
   ]
  },
  {
   "cell_type": "code",
   "execution_count": null,
   "id": "2abdf66b",
   "metadata": {},
   "outputs": [],
   "source": []
  }
 ],
 "metadata": {
  "kernelspec": {
   "display_name": "Python 3 (ipykernel)",
   "language": "python",
   "name": "python3"
  },
  "language_info": {
   "codemirror_mode": {
    "name": "ipython",
    "version": 3
   },
   "file_extension": ".py",
   "mimetype": "text/x-python",
   "name": "python",
   "nbconvert_exporter": "python",
   "pygments_lexer": "ipython3",
   "version": "3.11.3"
  }
 },
 "nbformat": 4,
 "nbformat_minor": 5
}
